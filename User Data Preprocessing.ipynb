{
 "cells": [
  {
   "cell_type": "code",
   "execution_count": 1,
   "id": "fc70e6aa-2509-4d4f-acf7-e826f77c18d9",
   "metadata": {},
   "outputs": [],
   "source": [
    "#!pip install graphdatascienceb"
   ]
  },
  {
   "cell_type": "code",
   "execution_count": 1,
   "id": "24199b7e-4e6f-4e22-8688-a415e2eea247",
   "metadata": {},
   "outputs": [],
   "source": [
    "# Define connection details\n",
    "uri = \"bolt://localhost:7687\"  # Replace with your Neo4j URI\n",
    "username = \"username\"         # Replace with your Neo4j username\n",
    "password = \"password\"      # Replace with your Neo4j password\n",
    "db_name = \"nutrition\"          # Specify the database you want to work on"
   ]
  },
  {
   "cell_type": "code",
   "execution_count": 2,
   "id": "7a16ffa1-7896-4b7f-94a1-12b480f8a8e8",
   "metadata": {},
   "outputs": [
    {
     "name": "stderr",
     "output_type": "stream",
     "text": [
      "Received notification from DBMS server: {severity: WARNING} {code: Neo.ClientNotification.Statement.FeatureDeprecationWarning} {category: DEPRECATION} {title: This feature is deprecated and will be removed in future versions.} {description: The query used a deprecated field from a procedure. ('advertisedListenAddress' returned by 'gds.debug.arrow' is deprecated.)} {position: line: 1, column: 1, offset: 0} for query: 'CALL gds.debug.arrow()'\n",
      "Received notification from DBMS server: {severity: WARNING} {code: Neo.ClientNotification.Statement.FeatureDeprecationWarning} {category: DEPRECATION} {title: This feature is deprecated and will be removed in future versions.} {description: The query used a deprecated field from a procedure. ('serverLocation' returned by 'gds.debug.arrow' is deprecated.)} {position: line: 1, column: 1, offset: 0} for query: 'CALL gds.debug.arrow()'\n"
     ]
    },
    {
     "name": "stdout",
     "output_type": "stream",
     "text": [
      "2.7.0\n"
     ]
    }
   ],
   "source": [
    "from graphdatascience import GraphDataScience\n",
    "import pandas as pd\n",
    "\n",
    "# Create another GraphDataScience instance and set the default database\n",
    "gds = GraphDataScience(uri, auth=(username, password), database=db_name)\n",
    "\n",
    "# Check the installed GDS version on the server\n",
    "print(gds.version())\n",
    "assert gds.version()"
   ]
  },
  {
   "cell_type": "markdown",
   "id": "b2df1b28-4d6f-493f-befc-aa5d4ff484c6",
   "metadata": {},
   "source": [
    "### Check ingredients to ensure they are in the knowledge graph"
   ]
  },
  {
   "cell_type": "code",
   "execution_count": 21,
   "id": "4af432f6-c3aa-42c5-9b84-833b45d84256",
   "metadata": {},
   "outputs": [
    {
     "data": {
      "text/html": [
       "<div>\n",
       "<style scoped>\n",
       "    .dataframe tbody tr th:only-of-type {\n",
       "        vertical-align: middle;\n",
       "    }\n",
       "\n",
       "    .dataframe tbody tr th {\n",
       "        vertical-align: top;\n",
       "    }\n",
       "\n",
       "    .dataframe thead th {\n",
       "        text-align: right;\n",
       "    }\n",
       "</style>\n",
       "<table border=\"1\" class=\"dataframe\">\n",
       "  <thead>\n",
       "    <tr style=\"text-align: right;\">\n",
       "      <th></th>\n",
       "      <th>missingLikesIngredients</th>\n",
       "      <th>missingDislikesIngredients</th>\n",
       "      <th>missingAllergicToIngredients</th>\n",
       "    </tr>\n",
       "  </thead>\n",
       "  <tbody>\n",
       "    <tr>\n",
       "      <th>0</th>\n",
       "      <td>[]</td>\n",
       "      <td>[]</td>\n",
       "      <td>[]</td>\n",
       "    </tr>\n",
       "    <tr>\n",
       "      <th>1</th>\n",
       "      <td>[]</td>\n",
       "      <td>[]</td>\n",
       "      <td>[]</td>\n",
       "    </tr>\n",
       "    <tr>\n",
       "      <th>2</th>\n",
       "      <td>[]</td>\n",
       "      <td>[intestine]</td>\n",
       "      <td>[]</td>\n",
       "    </tr>\n",
       "    <tr>\n",
       "      <th>3</th>\n",
       "      <td>[]</td>\n",
       "      <td>[]</td>\n",
       "      <td>[]</td>\n",
       "    </tr>\n",
       "    <tr>\n",
       "      <th>4</th>\n",
       "      <td>[]</td>\n",
       "      <td>[]</td>\n",
       "      <td>[]</td>\n",
       "    </tr>\n",
       "    <tr>\n",
       "      <th>5</th>\n",
       "      <td>[]</td>\n",
       "      <td>[]</td>\n",
       "      <td>[]</td>\n",
       "    </tr>\n",
       "    <tr>\n",
       "      <th>6</th>\n",
       "      <td>[octopus]</td>\n",
       "      <td>[durian]</td>\n",
       "      <td>[]</td>\n",
       "    </tr>\n",
       "    <tr>\n",
       "      <th>7</th>\n",
       "      <td>[]</td>\n",
       "      <td>[]</td>\n",
       "      <td>[high caffein]</td>\n",
       "    </tr>\n",
       "    <tr>\n",
       "      <th>8</th>\n",
       "      <td>[whey protein]</td>\n",
       "      <td>[]</td>\n",
       "      <td>[]</td>\n",
       "    </tr>\n",
       "    <tr>\n",
       "      <th>9</th>\n",
       "      <td>[durian]</td>\n",
       "      <td>[]</td>\n",
       "      <td>[]</td>\n",
       "    </tr>\n",
       "    <tr>\n",
       "      <th>10</th>\n",
       "      <td>[]</td>\n",
       "      <td>[]</td>\n",
       "      <td>[]</td>\n",
       "    </tr>\n",
       "    <tr>\n",
       "      <th>11</th>\n",
       "      <td>[]</td>\n",
       "      <td>[]</td>\n",
       "      <td>[]</td>\n",
       "    </tr>\n",
       "  </tbody>\n",
       "</table>\n",
       "</div>"
      ],
      "text/plain": [
       "   missingLikesIngredients missingDislikesIngredients  \\\n",
       "0                       []                         []   \n",
       "1                       []                         []   \n",
       "2                       []                [intestine]   \n",
       "3                       []                         []   \n",
       "4                       []                         []   \n",
       "5                       []                         []   \n",
       "6                [octopus]                   [durian]   \n",
       "7                       []                         []   \n",
       "8           [whey protein]                         []   \n",
       "9                 [durian]                         []   \n",
       "10                      []                         []   \n",
       "11                      []                         []   \n",
       "\n",
       "   missingAllergicToIngredients  \n",
       "0                            []  \n",
       "1                            []  \n",
       "2                            []  \n",
       "3                            []  \n",
       "4                            []  \n",
       "5                            []  \n",
       "6                            []  \n",
       "7                [high caffein]  \n",
       "8                            []  \n",
       "9                            []  \n",
       "10                           []  \n",
       "11                           []  "
      ]
     },
     "execution_count": 21,
     "metadata": {},
     "output_type": "execute_result"
    }
   ],
   "source": [
    "cypher_query = \"\"\"\n",
    "CALL apoc.load.json(\"file:///survey_data_version_4.json\") YIELD value\n",
    "WITH \n",
    "    value.user.likes_ingredients AS likesIngredients,\n",
    "    value.user.dislikes_ingredients AS dislikesIngredients,\n",
    "    value.user.allergic_to_ingredients AS allergicToIngredients\n",
    "\n",
    "OPTIONAL MATCH (existingIngredient:Ingredient)\n",
    "WITH likesIngredients, dislikesIngredients, allergicToIngredients, COLLECT(existingIngredient.name) AS existingIngredients\n",
    "\n",
    "WITH \n",
    "    [ingredient IN likesIngredients WHERE NOT ingredient IN existingIngredients] AS newLikesIngredients, \n",
    "    dislikesIngredients, allergicToIngredients, existingIngredients\n",
    "WITH \n",
    "    newLikesIngredients,\n",
    "    [ingredient IN dislikesIngredients WHERE NOT ingredient IN existingIngredients] AS newDislikesIngredients,\n",
    "    allergicToIngredients, existingIngredients\n",
    "WITH \n",
    "    newLikesIngredients, \n",
    "    newDislikesIngredients, \n",
    "    [ingredient IN allergicToIngredients WHERE NOT ingredient IN existingIngredients] AS newAllergicToIngredients, \n",
    "    existingIngredients\n",
    "RETURN \n",
    "    newLikesIngredients AS missingLikesIngredients,\n",
    "    newDislikesIngredients AS missingDislikesIngredients,\n",
    "    newAllergicToIngredients AS missingAllergicToIngredients\n",
    "\"\"\"\n",
    "\n",
    "# Run the Cypher query\n",
    "result = gds.run_cypher(cypher_query)\n",
    "\n",
    "# Print the result\n",
    "\n",
    "result"
   ]
  },
  {
   "cell_type": "code",
   "execution_count": 14,
   "id": "a6bbff1c-c447-4464-881a-64585481e380",
   "metadata": {},
   "outputs": [
    {
     "data": {
      "text/plain": [
       "\"\\nMATCH (i:Ingredient) \\nWHERE apoc.text.levenshteinSimilarity(i.name, 'intestine') > 0.5\\nRETURN i.name, apoc.text.levenshteinSimilarity(i.name, 'intestine') AS similarity\\nORDER BY similarity DESC\\n\""
      ]
     },
     "execution_count": 14,
     "metadata": {},
     "output_type": "execute_result"
    }
   ],
   "source": [
    "'''\n",
    "MATCH (i:Ingredient) \n",
    "WHERE apoc.text.levenshteinSimilarity(i.name, 'intestine') > 0.5\n",
    "RETURN i.name, apoc.text.levenshteinSimilarity(i.name, 'intestine') AS similarity\n",
    "ORDER BY similarity DESC\n",
    "'''"
   ]
  }
 ],
 "metadata": {
  "kernelspec": {
   "display_name": "Python 3 (ipykernel)",
   "language": "python",
   "name": "python3"
  },
  "language_info": {
   "codemirror_mode": {
    "name": "ipython",
    "version": 3
   },
   "file_extension": ".py",
   "mimetype": "text/x-python",
   "name": "python",
   "nbconvert_exporter": "python",
   "pygments_lexer": "ipython3",
   "version": "3.12.4"
  }
 },
 "nbformat": 4,
 "nbformat_minor": 5
}
