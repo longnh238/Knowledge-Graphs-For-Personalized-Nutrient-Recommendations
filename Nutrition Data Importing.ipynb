{
 "cells": [
  {
   "cell_type": "code",
   "execution_count": 1,
   "id": "701265d7-85e8-4183-8bb8-1b5b80fb59f5",
   "metadata": {},
   "outputs": [],
   "source": [
    "#!pip install graphdatascience"
   ]
  },
  {
   "cell_type": "code",
   "execution_count": 2,
   "id": "c26ec9c4-46f9-4627-9b80-db7ac3063767",
   "metadata": {},
   "outputs": [],
   "source": [
    "# Need to create user first\n",
    "\n",
    "# Define connection details\n",
    "uri = \"bolt://localhost:7687\"  # Replace with your Neo4j URI\n",
    "username = \"username\"         # Replace with your Neo4j username\n",
    "password = \"password\"      # Replace with your Neo4j password\n",
    "db_name = \"nutrition\"          # Specify the database you want to work on"
   ]
  },
  {
   "cell_type": "code",
   "execution_count": 3,
   "id": "7d86ff52-fdd7-49a4-992d-5f21d8dab6b4",
   "metadata": {},
   "outputs": [
    {
     "name": "stderr",
     "output_type": "stream",
     "text": [
      "Received notification from DBMS server: {severity: WARNING} {code: Neo.ClientNotification.Statement.FeatureDeprecationWarning} {category: DEPRECATION} {title: This feature is deprecated and will be removed in future versions.} {description: The query used a deprecated field from a procedure. ('advertisedListenAddress' returned by 'gds.debug.arrow' is deprecated.)} {position: line: 1, column: 1, offset: 0} for query: 'CALL gds.debug.arrow()'\n",
      "Received notification from DBMS server: {severity: WARNING} {code: Neo.ClientNotification.Statement.FeatureDeprecationWarning} {category: DEPRECATION} {title: This feature is deprecated and will be removed in future versions.} {description: The query used a deprecated field from a procedure. ('serverLocation' returned by 'gds.debug.arrow' is deprecated.)} {position: line: 1, column: 1, offset: 0} for query: 'CALL gds.debug.arrow()'\n"
     ]
    },
    {
     "name": "stdout",
     "output_type": "stream",
     "text": [
      "2.7.0\n"
     ]
    }
   ],
   "source": [
    "from graphdatascience import GraphDataScience\n",
    "import pandas as pd\n",
    "\n",
    "# Connecting with the Neo4j database using GDS library\n",
    "# Need to add a user by using CREATE USER in Neo4j browser\n",
    "gds = GraphDataScience(uri, auth=(username, password))\n",
    "\n",
    "# Should do this one in the conf file:\n",
    "# dbms.security.procedures.unrestricted=jwt.security.*,gds.*\n",
    "# dbms.security.procedures.allowlist=apoc.coll.*,apoc.load.*,gds.*\n",
    "\n",
    "# Check the installed GDS version on the server\n",
    "print(gds.version())\n",
    "assert gds.version()"
   ]
  },
  {
   "cell_type": "code",
   "execution_count": 4,
   "id": "e04f559b-c9f3-4d5d-aa3d-77a058e7449a",
   "metadata": {},
   "outputs": [
    {
     "name": "stdout",
     "output_type": "stream",
     "text": [
      "Database 'nutrition' already exists.\n"
     ]
    }
   ],
   "source": [
    "# Function to check if a database exists\n",
    "def database_exists(gds, db_name):\n",
    "    result = gds.run_cypher(\"SHOW DATABASES\")\n",
    "    existing_databases = result['name'].tolist()  # Extract the 'name' column and convert to a list\n",
    "    return db_name in existing_databases\n",
    "\n",
    "# Function to create a new database if it does not exist\n",
    "def create_database_if_not_exists(gds, db_name):\n",
    "    if database_exists(gds, db_name):\n",
    "        print(f\"Database '{db_name}' already exists.\")\n",
    "    else:\n",
    "        create_db_query = f\"CREATE DATABASE {db_name};\"\n",
    "        gds.run_cypher(create_db_query)\n",
    "        print(f\"Database '{db_name}' created.\")\n",
    "\n",
    "# Specify the name of the new database\n",
    "new_db_name = \"nutrition\"\n",
    "\n",
    "# Run the function\n",
    "create_database_if_not_exists(gds, new_db_name)"
   ]
  },
  {
   "cell_type": "code",
   "execution_count": 5,
   "id": "811bec3f-0628-4948-bc5e-bfeb7ff8087d",
   "metadata": {},
   "outputs": [
    {
     "name": "stderr",
     "output_type": "stream",
     "text": [
      "Received notification from DBMS server: {severity: WARNING} {code: Neo.ClientNotification.Statement.FeatureDeprecationWarning} {category: DEPRECATION} {title: This feature is deprecated and will be removed in future versions.} {description: The query used a deprecated field from a procedure. ('advertisedListenAddress' returned by 'gds.debug.arrow' is deprecated.)} {position: line: 1, column: 1, offset: 0} for query: 'CALL gds.debug.arrow()'\n",
      "Received notification from DBMS server: {severity: WARNING} {code: Neo.ClientNotification.Statement.FeatureDeprecationWarning} {category: DEPRECATION} {title: This feature is deprecated and will be removed in future versions.} {description: The query used a deprecated field from a procedure. ('serverLocation' returned by 'gds.debug.arrow' is deprecated.)} {position: line: 1, column: 1, offset: 0} for query: 'CALL gds.debug.arrow()'\n"
     ]
    },
    {
     "name": "stdout",
     "output_type": "stream",
     "text": [
      "2.7.0\n"
     ]
    }
   ],
   "source": [
    "# Create another GraphDataScience instance and set the default database\n",
    "gds = GraphDataScience(uri, auth=(username, password), database=db_name)\n",
    "\n",
    "# Check the installed GDS version on the server\n",
    "print(gds.version())\n",
    "assert gds.version()"
   ]
  },
  {
   "cell_type": "code",
   "execution_count": 6,
   "id": "f379c4ba-63a1-46f3-9e54-c4dcf32d9f62",
   "metadata": {},
   "outputs": [
    {
     "name": "stdout",
     "output_type": "stream",
     "text": [
      "Database cleared, including indexes, node labels, and property keys.\n"
     ]
    }
   ],
   "source": [
    "# Function to clear the database\n",
    "def clear_database(gds):\n",
    "    # Delete all nodes and relationships\n",
    "    gds.run_cypher(\"MATCH (n) DETACH DELETE n\")\n",
    "    \n",
    "    # Drop the specified indexes\n",
    "    indexes = [\n",
    "        \"DROP INDEX recipe_id_index IF EXISTS\",\n",
    "        \"DROP INDEX ingredient_name_index IF EXISTS\",\n",
    "        \"DROP INDEX keyword_name_index IF EXISTS\",\n",
    "        \"DROP INDEX diettype_name_index IF EXISTS\",\n",
    "        \"DROP INDEX author_name_index IF EXISTS\",\n",
    "        \"DROP INDEX collection_name_index IF EXISTS\"\n",
    "    ]\n",
    "    \n",
    "    for index_query in indexes:\n",
    "        gds.run_cypher(index_query)\n",
    "    \n",
    "    # Remove any remaining property keys by creating and then deleting dummy nodes with all properties\n",
    "    properties_query = \"\"\"\n",
    "    CALL db.propertyKeys() YIELD propertyKey\n",
    "    WITH collect(propertyKey) AS keys\n",
    "    CALL apoc.create.node(['Temp'], apoc.map.fromPairs([key IN keys | [key, null]])) YIELD node\n",
    "    WITH node\n",
    "    DETACH DELETE node\n",
    "    \"\"\"\n",
    "    gds.run_cypher(properties_query)\n",
    "\n",
    "# Run the function\n",
    "clear_database(gds)\n",
    "\n",
    "print(\"Database cleared, including indexes, node labels, and property keys.\")"
   ]
  },
  {
   "cell_type": "markdown",
   "id": "f7f6e601-15a5-4b1d-9e09-5a87845f1467",
   "metadata": {},
   "source": [
    "### Set up indexes for query performance"
   ]
  },
  {
   "cell_type": "code",
   "execution_count": 7,
   "id": "8e5a66dc-1cd3-4318-9fe4-15507e438d6a",
   "metadata": {},
   "outputs": [
    {
     "name": "stdout",
     "output_type": "stream",
     "text": [
      "Executed: CREATE INDEX recipe_id_index FOR (r:Recipe) ON (r.id);\n",
      "Executed: CREATE INDEX ingredient_name_index FOR (i:Ingredient) ON (i.name);\n",
      "Executed: CREATE INDEX keyword_name_index FOR (k:Keyword) ON (k.name);\n",
      "Executed: CREATE INDEX diettype_name_index FOR (d:DietType) ON (d.name);\n",
      "Executed: CREATE INDEX author_name_index FOR (a:Author) ON (a.name);\n",
      "Executed: CREATE INDEX collection_name_index FOR (c:Collection) ON (c.name);\n"
     ]
    }
   ],
   "source": [
    "# List of index creation queries\n",
    "index_queries = [\n",
    "    \"CREATE INDEX recipe_id_index FOR (r:Recipe) ON (r.id);\",\n",
    "    \"CREATE INDEX ingredient_name_index FOR (i:Ingredient) ON (i.name);\",\n",
    "    \"CREATE INDEX keyword_name_index FOR (k:Keyword) ON (k.name);\",\n",
    "    \"CREATE INDEX diettype_name_index FOR (d:DietType) ON (d.name);\",\n",
    "    \"CREATE INDEX author_name_index FOR (a:Author) ON (a.name);\",\n",
    "    \"CREATE INDEX collection_name_index FOR (c:Collection) ON (c.name);\"\n",
    "]\n",
    "\n",
    "# Run each query separately\n",
    "for query in index_queries:\n",
    "    try:\n",
    "        gds.run_cypher(query)\n",
    "        print(f\"Executed: {query}\")\n",
    "    except Exception as e:\n",
    "        print(f\"Error executing query: {query}\\nError message: {str(e)}\")\n",
    "        print()"
   ]
  },
  {
   "cell_type": "markdown",
   "id": "cd8b2253-c6da-4414-b1bb-3dd7fc6ef379",
   "metadata": {},
   "source": [
    "### Import recipes to the graph"
   ]
  },
  {
   "cell_type": "markdown",
   "id": "992882b7-fced-44e1-b12d-6fdf85e51c8d",
   "metadata": {},
   "source": [
    "First, ensure that the APOC plugin is installed and configured to allow reading from files. \n",
    "\n",
    "We have to create a separate file \"apoc.conf\". Add this line:\n",
    "\n",
    "- apoc.import.file.enabled=true\n",
    "\n",
    "By adding apoc configs to neo4j.conf, DBMS was not starting\n",
    "\n",
    "Data has to be put in \"import\" folder, e.g., \"Neo4J\\relate-data\\dbmss\\dbms-1771a757-accc-4e5f-95c4-9bead0d360e8\\import\""
   ]
  },
  {
   "cell_type": "code",
   "execution_count": 8,
   "id": "dc8ef0ef-7ee1-4097-8085-8402528f2b9a",
   "metadata": {},
   "outputs": [
    {
     "name": "stdout",
     "output_type": "stream",
     "text": [
      "Empty DataFrame\n",
      "Columns: []\n",
      "Index: []\n"
     ]
    }
   ],
   "source": [
    "# CALL apoc.load.json('https://raw.githubusercontent.com/neo4j-examples/graphgists/master/browser-guides/data/stream_clean.json') YIELD value\n",
    "\n",
    "cypher_query = \"\"\"\n",
    "CALL apoc.load.json(\"file:///stream_clean.json\") YIELD value\n",
    "WITH value.page.article.id AS id,\n",
    "     value.page.title AS title,\n",
    "     value.page.article.description AS description,\n",
    "     value.page.recipe.cooking_time AS cookingTime,\n",
    "     value.page.recipe.prep_time AS preparationTime,\n",
    "     value.page.recipe.skill_level AS skillLevel,\n",
    "     value.page.recipe.nutrition_info AS nutritionInfo\n",
    "MERGE (r:Recipe {id: id})\n",
    "SET r.cookingTime = cookingTime,\n",
    "    r.preparationTime = preparationTime,\n",
    "    r.name = title,\n",
    "    r.description = description,\n",
    "    r.skillLevel = skillLevel,\n",
    "\n",
    "    // Set nutrition information\n",
    "    r.nAddedSugar = split(nutritionInfo[0], \" \")[2],\n",
    "    r.nCarbohydrate = split(nutritionInfo[1], \" \")[1],\n",
    "    r.nKcal = split(nutritionInfo[2], \" \")[1] + \" \"  + split(nutritionInfo[2], \" \")[2],\n",
    "    r.nProtein = split(nutritionInfo[3], \" \")[1],\n",
    "    r.nSalt = split(nutritionInfo[4], \" \")[1],\n",
    "    r.nSaturatedFat = split(nutritionInfo[5], \" \")[2],\n",
    "    r.nFat = split(nutritionInfo[6], \" \")[1]\n",
    "\"\"\"\n",
    "\n",
    "# Run the Cypher query\n",
    "result = gds.run_cypher(cypher_query)\n",
    "\n",
    "# Print the result\n",
    "print(result)"
   ]
  },
  {
   "cell_type": "markdown",
   "id": "3d71850c-d1ae-450a-b166-c5218fb8af5f",
   "metadata": {},
   "source": [
    "### Import authors and connect to recipes"
   ]
  },
  {
   "cell_type": "code",
   "execution_count": 9,
   "id": "dd98441b-aa7d-445c-a563-7d25d067f25f",
   "metadata": {},
   "outputs": [
    {
     "name": "stdout",
     "output_type": "stream",
     "text": [
      "Empty DataFrame\n",
      "Columns: []\n",
      "Index: []\n"
     ]
    }
   ],
   "source": [
    "# CALL apoc.load.json('https://raw.githubusercontent.com/neo4j-examples/graphgists/master/browser-guides/data/stream_clean.json') YIELD value\n",
    "\n",
    "cypher_query = \"\"\"\n",
    "CALL apoc.load.json(\"file:///stream_clean.json\") YIELD value\n",
    "WITH value.page.article.id AS id,\n",
    "     value.page.article.author AS author\n",
    "MERGE (a:Author {name: author})\n",
    "WITH a,id\n",
    "MATCH (r:Recipe {id:id})\n",
    "MERGE (a)-[:WROTE]->(r);\n",
    "\"\"\"\n",
    "\n",
    "# Run the Cypher query\n",
    "result = gds.run_cypher(cypher_query)\n",
    "\n",
    "# Print the result\n",
    "print(result)"
   ]
  },
  {
   "cell_type": "markdown",
   "id": "9d46aedc-5074-405e-996d-a1bacc3c8289",
   "metadata": {},
   "source": [
    "### Import ingredients and connect to recipes"
   ]
  },
  {
   "cell_type": "code",
   "execution_count": 10,
   "id": "51d73c83-59b0-41a8-a52b-5cb334a057ac",
   "metadata": {},
   "outputs": [
    {
     "name": "stdout",
     "output_type": "stream",
     "text": [
      "Empty DataFrame\n",
      "Columns: []\n",
      "Index: []\n"
     ]
    }
   ],
   "source": [
    "# CALL apoc.load.json('https://raw.githubusercontent.com/neo4j-examples/graphgists/master/browser-guides/data/stream_clean.json') YIELD value\n",
    "\n",
    "cypher_query = \"\"\"\n",
    "CALL apoc.load.json(\"file:///stream_clean.json\") YIELD value\n",
    "WITH value.page.article.id AS id,\n",
    "     value.page.recipe.ingredients AS ingredients\n",
    "MATCH (r:Recipe {id:id})\n",
    "FOREACH (ingredient IN ingredients |\n",
    "     MERGE (i:Ingredient {name: ingredient})\n",
    "     MERGE (r)-[:CONTAINS_INGREDIENT]->(i)\n",
    ");\n",
    "\"\"\"\n",
    "\n",
    "# Run the Cypher query\n",
    "result = gds.run_cypher(cypher_query)\n",
    "\n",
    "# Print the result\n",
    "print(result)"
   ]
  },
  {
   "cell_type": "markdown",
   "id": "5ac27196-7014-4013-8158-26b6ea20602a",
   "metadata": {},
   "source": [
    "### Import keywords and connect to recipes"
   ]
  },
  {
   "cell_type": "code",
   "execution_count": 11,
   "id": "439f6593-0687-4515-9e58-1f89da19c0e1",
   "metadata": {},
   "outputs": [
    {
     "name": "stdout",
     "output_type": "stream",
     "text": [
      "Empty DataFrame\n",
      "Columns: []\n",
      "Index: []\n"
     ]
    }
   ],
   "source": [
    "# CALL apoc.load.json('https://raw.githubusercontent.com/neo4j-examples/graphgists/master/browser-guides/data/stream_clean.json') YIELD value\n",
    "\n",
    "cypher_query = \"\"\"\n",
    "CALL apoc.load.json(\"file:///stream_clean.json\") YIELD value\n",
    "WITH value.page.article.id AS id,\n",
    "     value.page.recipe.keywords AS keywords\n",
    "MATCH (r:Recipe {id:id})\n",
    "FOREACH (keyword IN keywords |\n",
    "     MERGE (k:Keyword {name: keyword})\n",
    "  MERGE (r)-[:KEYWORD]->(k)\n",
    ");\n",
    "\"\"\"\n",
    "\n",
    "# Run the Cypher query\n",
    "result = gds.run_cypher(cypher_query)\n",
    "\n",
    "# Print the result\n",
    "print(result)"
   ]
  },
  {
   "cell_type": "markdown",
   "id": "3dbf0da5-d937-4f10-8c06-c451ae38b648",
   "metadata": {},
   "source": [
    "### Import dietTypes and connect to recipes"
   ]
  },
  {
   "cell_type": "code",
   "execution_count": 12,
   "id": "c0ce0736-d135-4588-8632-40cc24a3ac1f",
   "metadata": {},
   "outputs": [
    {
     "name": "stdout",
     "output_type": "stream",
     "text": [
      "Empty DataFrame\n",
      "Columns: []\n",
      "Index: []\n"
     ]
    }
   ],
   "source": [
    "# CALL apoc.load.json('https://raw.githubusercontent.com/neo4j-examples/graphgists/master/browser-guides/data/stream_clean.json') YIELD value\n",
    "\n",
    "cypher_query = \"\"\"\n",
    "CALL apoc.load.json(\"file:///stream_clean.json\") YIELD value\n",
    "WITH value.page.article.id AS id,\n",
    "     value.page.recipe.diet_types AS dietTypes\n",
    "MATCH (r:Recipe {id:id})\n",
    "FOREACH (dietType IN dietTypes |\n",
    "     MERGE (d:DietType {name: dietType})\n",
    "     MERGE (r)-[:DIET_TYPE]->(d)\n",
    ");\n",
    "\"\"\"\n",
    "\n",
    "# Run the Cypher query\n",
    "result = gds.run_cypher(cypher_query)\n",
    "\n",
    "# Print the result\n",
    "print(result)"
   ]
  },
  {
   "cell_type": "markdown",
   "id": "19d8cf1f-bc3e-4ebb-bb8c-563816809420",
   "metadata": {},
   "source": [
    "### Import collections and connect to recipes"
   ]
  },
  {
   "cell_type": "code",
   "execution_count": 13,
   "id": "0ab0babf-60b2-456e-bff5-063a19757ffc",
   "metadata": {},
   "outputs": [
    {
     "name": "stdout",
     "output_type": "stream",
     "text": [
      "Empty DataFrame\n",
      "Columns: []\n",
      "Index: []\n"
     ]
    }
   ],
   "source": [
    "# CALL apoc.load.json('https://raw.githubusercontent.com/neo4j-examples/graphgists/master/browser-guides/data/stream_clean.json') YIELD value\n",
    "\n",
    "cypher_query = \"\"\"\n",
    "CALL apoc.load.json(\"file:///stream_clean.json\") YIELD value\n",
    "WITH value.page.article.id AS id,\n",
    "     value.page.recipe.collections AS collections\n",
    "MATCH (r:Recipe {id:id})\n",
    "FOREACH (collection IN collections |\n",
    "     MERGE (c:Collection {name: collection})\n",
    "     MERGE (r)-[:COLLECTION]->(c)\n",
    ");\n",
    "\"\"\"\n",
    "\n",
    "# Run the Cypher query\n",
    "result = gds.run_cypher(cypher_query)\n",
    "\n",
    "# Print the result\n",
    "print(result)"
   ]
  },
  {
   "cell_type": "markdown",
   "id": "d92f317a-c6d2-49c7-b0f4-9e304639da68",
   "metadata": {},
   "source": [
    "### Graph Schema\n",
    "\n",
    "Now let’s review the metagraph and see the types of nodes and relationships we’re going to be working with."
   ]
  },
  {
   "cell_type": "code",
   "execution_count": 14,
   "id": "aa5ecf06-81f2-49d2-b847-19dfc5fcf60c",
   "metadata": {},
   "outputs": [
    {
     "name": "stdout",
     "output_type": "stream",
     "text": [
      "                                               nodes  \\\n",
      "0  [(name, indexes, constraints), (name, indexes,...   \n",
      "\n",
      "                              relationships  \n",
      "0  [(name), (name), (name), (name), (name)]  \n"
     ]
    }
   ],
   "source": [
    "result = gds.run_cypher('CALL db.schema.visualization()')\n",
    "\n",
    "# Print the result\n",
    "print(result)"
   ]
  },
  {
   "cell_type": "markdown",
   "id": "052b1712-80cd-4ed7-9554-7ffbb6d56497",
   "metadata": {},
   "source": [
    "We can see that the graph is based around Recipes, which are then connected to several other entities. A recipe contains Ingredients, can be part of a Collection, is written by an Author, can form part of a DietType, and has certain Keywords."
   ]
  },
  {
   "cell_type": "markdown",
   "id": "851b0b46-94ab-4a3c-b102-73d5c7f48f68",
   "metadata": {},
   "source": [
    "### Most common ingredients\n",
    "\n",
    "What are the most popular ingredients and in how many recipes have they\n",
    "been used?"
   ]
  },
  {
   "cell_type": "code",
   "execution_count": 15,
   "id": "dd42d7ce-3484-4203-82dd-b816f12a05fd",
   "metadata": {},
   "outputs": [
    {
     "name": "stdout",
     "output_type": "stream",
     "text": [
      "                                i.name  recipes\n",
      "0                            olive oil     3308\n",
      "1                               butter     2856\n",
      "2                         garlic clove     2740\n",
      "3                                lemon     2144\n",
      "4                                  egg     2125\n",
      "...                                ...      ...\n",
      "3072  fat-free Greek or natural yogurt        1\n",
      "3073                           garnish        1\n",
      "3074     chocolate-coated coffee beans        1\n",
      "3075                    caramel wafers        1\n",
      "3076                         tea towel        1\n",
      "\n",
      "[3077 rows x 2 columns]\n"
     ]
    }
   ],
   "source": [
    "cypher_query = \"\"\"\n",
    "MATCH (i:Ingredient)<-[rel:CONTAINS_INGREDIENT]-(r:Recipe)\n",
    "RETURN i.name, count(rel) as recipes\n",
    "ORDER BY recipes DESC\n",
    "\"\"\"\n",
    "\n",
    "# Run the Cypher query\n",
    "result = gds.run_cypher(cypher_query)\n",
    "\n",
    "# Print the result\n",
    "print(result)"
   ]
  },
  {
   "cell_type": "markdown",
   "id": "2c1169b4-3dfb-4dff-a5bf-db1208daad0d",
   "metadata": {},
   "source": [
    "The items at the top of the list aren’t all that surprising - olive oil, butter, and garlic! Further down the list we can see some ingredients that are probably used in cakes: sugar, milk, self-raising flour."
   ]
  },
  {
   "cell_type": "markdown",
   "id": "06d4a0e2-df9d-46e4-8984-dc1e07c2cfeb",
   "metadata": {},
   "source": [
    "### I want chocolate cake!\n",
    "\n",
    "This dataset also contains collections, and one of the tastiest looking\n",
    "ones is the collection of chocolate cakes. The following query returns\n",
    "the recipes in this collection:"
   ]
  },
  {
   "cell_type": "code",
   "execution_count": 16,
   "id": "8684a37a-b71a-44eb-96a6-83a7479044da",
   "metadata": {},
   "outputs": [
    {
     "name": "stdout",
     "output_type": "stream",
     "text": [
      "   recipe.id                                        recipe.name  \\\n",
      "0    6034241        Salted dark chocolate, rye & courgette cake   \n",
      "1      98704                      White chocolate & cherry loaf   \n",
      "2      96094                           Chocolate courgette cake   \n",
      "3      95041                           Chocolate & ginger torte   \n",
      "4     101172                           Chocolate birthday cake    \n",
      "5     103051                        White & dark chocolate cake   \n",
      "6    5641126                  Low sugar chocolate sandwich cake   \n",
      "7    6359111                              Chocolate & lime cake   \n",
      "8    5052746                          Easy vegan chocolate cake   \n",
      "9      98768                 Pistachio & milk chocolate squares   \n",
      "10   4973576                             Brooklyn blackout cake   \n",
      "11     99333                       Chocolate dipped cherry cake   \n",
      "12     98678                          Beetroot & chocolate cake   \n",
      "13   4989861                   Flowerpot chocolate chip muffins   \n",
      "14   5150001                         Malted chocolate drip cake   \n",
      "15     95937                             Chocolate caramel cake   \n",
      "16    100656                        Chocolate truffle star cake   \n",
      "17     96008                              Chocolate marble cake   \n",
      "18    102452                               Chocolate fudge cake   \n",
      "19     96335                      Sunken drunken chocolate cake   \n",
      "20    100458                            Chocolate brownie cake    \n",
      "21   5286861                              Chocolate sponge cake   \n",
      "22    102570                               White chocolate cake   \n",
      "23     95997                    Flourless chocolate & pear cake   \n",
      "24     97123                      Seriously rich chocolate cake   \n",
      "25    102539                     Chocolate & caramel ombre cake   \n",
      "26    102991                          Fudgy dark chocolate cake   \n",
      "27   4926821                                Hazelnut latte cake   \n",
      "28   5204866                         Cookies & cream party cake   \n",
      "29     98705                    Orange & white chocolate sponge   \n",
      "30   5204656                       Gravity-defying sweetie cake   \n",
      "31     98097                        Chocolate & Earl Grey torte   \n",
      "32     95582                            Chocolate & banana cake   \n",
      "33   4138721      Chocolate layer cake with passion fruit icing   \n",
      "34   5764196                       Chocolate & sesame loaf cake   \n",
      "35     95319                                    Chococcino cake   \n",
      "36   5020831        Lighter Chocolate cake with chocolate icing   \n",
      "37   4542501  Espresso, chocolate & chilli cake with coffee ...   \n",
      "38   4749401                 Chocolate meringue Mont Blanc cake   \n",
      "\n",
      "                                   recipe.description  \n",
      "0   Not only are these chocolate squares a great w...  \n",
      "1   This indulgent cake is perfect for tea in the ...  \n",
      "2   Grated courgette gives this cake a lovely mois...  \n",
      "3   This decadent dessert with a triple-ginger hit...  \n",
      "4   We used colourful candles rather than artifici...  \n",
      "5   For big celebrations this cake is a must, four...  \n",
      "6   Moist and squidgy, who would believe that this...  \n",
      "7   Give chocolate cake a zesty lift with lime but...  \n",
      "8   This indulgent, fudgy vegan bake is topped wit...  \n",
      "9   Try something different with Sarah Cook's Pist...  \n",
      "10  This rich, dark sponge is filled and coated wi...  \n",
      "11  Bake your chocolate dipped cherry cake and eat it  \n",
      "12  Beetroot is actually very sweet and keeps this...  \n",
      "13  Children will love to make these yummy double ...  \n",
      "14  This layered drip cake is smothered in cream c...  \n",
      "15  This rich cake makes an impressive centrepiece...  \n",
      "16  Glamorous enough to serve as a dessert, this m...  \n",
      "17  Marble cake is a classic childhood cooking mem...  \n",
      "18  You just can't beat a good chocolate cake, and...  \n",
      "19  Prunes, Marsala and dark chocolate - a marriag...  \n",
      "20  The perfect cake for brownie lovers, try a big...  \n",
      "21  Good Food reader Eve Scott shares this easy, f...  \n",
      "22  Get creative with toppings to make a treat for...  \n",
      "23  A light, but luscious cake made with hazelnuts...  \n",
      "24     Dark, rich and delicious - the perfect dessert  \n",
      "25  For the ultimate indulgence look no further th...  \n",
      "26  Fudgy dark chocolate sponge, the perfect party...  \n",
      "27  Give coffee cake the ultimate upgrade - layer ...  \n",
      "28  Stack up our best ever chocolate sponges and s...  \n",
      "29  A stunning cake that will fast become a failsa...  \n",
      "30  Anti-gravity cakes are this year's must-have t...  \n",
      "31  Never before has it been so easy to impress - ...  \n",
      "32  Just one look at this chocolate and banana tre...  \n",
      "33  Great British Bake Off winner Jo Wheatley shar...  \n",
      "34  Tahini gives this cake a subtle nutty flavour ...  \n",
      "35  We know you all love coffee cake as much as ch...  \n",
      "36  You'd never guess that this rich-tasting, ligh...  \n",
      "37  The warmth of coffee and chilli combine beauti...  \n",
      "38  This towering cake has layers of chocolate spo...  \n"
     ]
    }
   ],
   "source": [
    "cypher_query = \"\"\"\n",
    "MATCH (:Collection {name: 'Chocolate cake'})<-[:COLLECTION]-(recipe)\n",
    "RETURN recipe.id, recipe.name, recipe.description\n",
    "\"\"\"\n",
    "\n",
    "# Run the Cypher query\n",
    "result = gds.run_cypher(cypher_query)\n",
    "\n",
    "# Print the result\n",
    "print(result)"
   ]
  },
  {
   "cell_type": "markdown",
   "id": "fb19a228-10cd-4fb6-bd8b-1b3770fd6fd5",
   "metadata": {},
   "source": [
    "A hunger-inducing list, but let’s not be greedy. We’ll zoom in on that seriously rich chocolate cake."
   ]
  },
  {
   "cell_type": "markdown",
   "id": "5b12e6dd-17bc-4c6c-b9cc-d83beb0a9d88",
   "metadata": {},
   "source": [
    "### Seriously rich chocolate cake\n",
    "\n",
    "We’ll start with the following query, which returns a graph of the\n",
    "recipe and its ingredients:"
   ]
  },
  {
   "cell_type": "code",
   "execution_count": 17,
   "id": "cf29ceb0-e3cc-4231-bfe4-354d8f6d3fb0",
   "metadata": {},
   "outputs": [
    {
     "name": "stdout",
     "output_type": "stream",
     "text": [
      "   path\n",
      "0  (())\n",
      "1  (())\n",
      "2  (())\n",
      "3  (())\n",
      "4  (())\n",
      "5  (())\n",
      "6  (())\n",
      "7  (())\n",
      "8  (())\n"
     ]
    }
   ],
   "source": [
    "cypher_query = \"\"\"\n",
    "MATCH path = (r:Recipe {id:'97123'})-[:CONTAINS_INGREDIENT]->(i:Ingredient)\n",
    "RETURN path\n",
    "\"\"\"\n",
    "\n",
    "# Run the Cypher query\n",
    "result = gds.run_cypher(cypher_query)\n",
    "\n",
    "# Print the result\n",
    "print(result)"
   ]
  },
  {
   "cell_type": "markdown",
   "id": "32c641bf-0edc-4a93-86e8-186adde934c5",
   "metadata": {},
   "source": [
    "### Are there any similar cakes to this one?\n",
    "\n",
    "Ok, so we’ve now baked this cake a few times, and while it was delicious,\n",
    "we’d like to try out some other recipes. What other cakes are there\n",
    "similar to this one?"
   ]
  },
  {
   "cell_type": "code",
   "execution_count": 18,
   "id": "51a8584b-25a4-4622-99b4-034ce5290818",
   "metadata": {},
   "outputs": [
    {
     "name": "stdout",
     "output_type": "stream",
     "text": [
      "    rec.id                                           rec.name  \\\n",
      "0   100341                 Black Forest sundaes with brownies   \n",
      "1    97938  Chocolate & almond puds with boozy hot chocola...   \n",
      "2   103089                          Little Black Forest cakes   \n",
      "3   101166                             Christmas pud cupcakes   \n",
      "4   102129                                   Dark mocha torte   \n",
      "5  4542501  Espresso, chocolate & chilli cake with coffee ...   \n",
      "6    94802                              Orange chocolate tart   \n",
      "7    96335                      Sunken drunken chocolate cake   \n",
      "8  4599096                      Freaky finger red velvet cake   \n",
      "9    98097                        Chocolate & Earl Grey torte   \n",
      "\n",
      "                                   commonIngredients  \n",
      "0  [caster sugar, egg, kirsch, ground almond, but...  \n",
      "1  [caster sugar, egg, cocoa powder, ground almon...  \n",
      "2  [caster sugar, egg, cocoa powder, kirsch, butt...  \n",
      "3  [caster sugar, egg, cocoa powder, ground almon...  \n",
      "4   [caster sugar, flour, egg, cocoa powder, butter]  \n",
      "5  [caster sugar, egg, cocoa powder, ground almon...  \n",
      "6  [caster sugar, egg, ground almond, butter, dar...  \n",
      "7  [caster sugar, egg, ground almond, butter, dar...  \n",
      "8    [caster sugar, egg, cocoa powder, salt, butter]  \n",
      "9  [caster sugar, egg, ground almond, butter, dar...  \n"
     ]
    }
   ],
   "source": [
    "cypher_query = \"\"\"\n",
    "MATCH (r:Recipe {id:'97123'})-[:CONTAINS_INGREDIENT]->(i:Ingredient)<-[:CONTAINS_INGREDIENT]-(rec:Recipe)\n",
    "RETURN rec.id, rec.name, collect(i.name) AS commonIngredients\n",
    "ORDER BY size(commonIngredients) DESC\n",
    "LIMIT 10\n",
    "\"\"\"\n",
    "\n",
    "# Run the Cypher query\n",
    "result = gds.run_cypher(cypher_query)\n",
    "\n",
    "# Print the result\n",
    "print(result)"
   ]
  },
  {
   "cell_type": "markdown",
   "id": "baa11e24-446e-4c85-9358-0a4b40e691ef",
   "metadata": {},
   "source": [
    "The query above:\n",
    "\n",
    "- finds all the ingredients in the seriously rich chocolate cake\n",
    "- finds other recipes that also contain these ingredients\n",
    "- returns the recipes that contain the most common ingredients"
   ]
  },
  {
   "cell_type": "markdown",
   "id": "3696588b-0ac3-4b94-9f44-294114ca6e42",
   "metadata": {},
   "source": [
    "### What other recipes has the author published?\n",
    "\n",
    "Another type of recommendation query would be to find the other recipes\n",
    "published by the author of seriously rich chocolate cake. The following\n",
    "query does this:"
   ]
  },
  {
   "cell_type": "code",
   "execution_count": 19,
   "id": "c161fc3e-88df-4e35-bd9f-3c363219a6c1",
   "metadata": {},
   "outputs": [
    {
     "name": "stdout",
     "output_type": "stream",
     "text": [
      "      rec.id                                      rec.name  \\\n",
      "0      97925                Prosciutto & rosemary potatoes   \n",
      "1      98632                           Baked camembert kit   \n",
      "2     102274                         Gingery treacle tart    \n",
      "3      98848           Roasted summer veg & pancetta pasta   \n",
      "4     102142           Chicken with braised celery & cider   \n",
      "...      ...                                           ...   \n",
      "3435   96054                          Exotic avocado salad   \n",
      "3436   95968  Fennel & chestnut loaf with cranberry relish   \n",
      "3437  102108                  Cheat's chilli prawn noodles   \n",
      "3438   96969                   American blueberry pancakes   \n",
      "3439   98273                        Shepherd's pie jackets   \n",
      "\n",
      "                                        rec.description  \n",
      "0     These simple canapÃ©s are small but perfectly ...  \n",
      "1     The ideal gift for a cheese-lover: a box of ca...  \n",
      "2     If you find traditional treacle tart too sweet...  \n",
      "3     Roast up courgettes and aubergines with plenty...  \n",
      "4     The perfect dish for warming those chilly nigh...  \n",
      "...                                                 ...  \n",
      "3435  Savour sharp, sweet flavours in this exotic av...  \n",
      "3436  Good Food reader Barbara Keen shares her veget...  \n",
      "3437  Versatile, low in fat, and made from storecupb...  \n",
      "3438  Light, fluffy and fruity, these pancakes are a...  \n",
      "3439  A jacket potato with a difference - these bake...  \n",
      "\n",
      "[3440 rows x 3 columns]\n"
     ]
    }
   ],
   "source": [
    "cypher_query = \"\"\"\n",
    "MATCH (rec:Recipe)<-[:WROTE]-(a:Author)-[:WROTE]->(r:Recipe {id:'97123'})\n",
    "RETURN rec.id, rec.name, rec.description\n",
    "\"\"\"\n",
    "\n",
    "# Run the Cypher query\n",
    "result = gds.run_cypher(cypher_query)\n",
    "\n",
    "# Print the result\n",
    "print(result)"
   ]
  },
  {
   "cell_type": "markdown",
   "id": "bb4d5a16-1b09-4911-adc5-930be2d062f1",
   "metadata": {},
   "source": [
    "### What can I make with the ingredients in my kitchen?\n",
    "\n",
    "### Show me the chillis\n"
   ]
  },
  {
   "cell_type": "code",
   "execution_count": 20,
   "id": "45082faf-64db-4890-84cc-d52dfb3b7954",
   "metadata": {},
   "outputs": [
    {
     "name": "stdout",
     "output_type": "stream",
     "text": [
      "                                        recipe  \\\n",
      "0                        Mango with lime sugar   \n",
      "1                      John's chilli con carne   \n",
      "2             Tuna steaks with cucumber relish   \n",
      "3                   Lime, chilli & feta butter   \n",
      "4       Chicken enchiladas with red mole sauce   \n",
      "..                                         ...   \n",
      "237                             Squash gnocchi   \n",
      "238  Chiang Mai curried noodles (Khao soi gai)   \n",
      "239                   Crunchy courgette pickle   \n",
      "240                       Reggae reggae nachos   \n",
      "241                          Flavoured butters   \n",
      "\n",
      "                                           ingredients  \n",
      "0       [lime, mango, chilli, ice cream, caster sugar]  \n",
      "1    [olive oil, coriander, thyme, smoked paprika, ...  \n",
      "2    [lemon juice, cucumber, tuna steak, tomato, pa...  \n",
      "3    [feta, coriander leaves, butter, lime, salt, c...  \n",
      "4    [chilli, onion, cinnamon, cumin, chicken, blan...  \n",
      "..                                                 ...  \n",
      "237  [butter, egg, nutmeg, thyme, plain flour, garl...  \n",
      "238  [vegetable oil, beansprout, chilli flakes, ski...  \n",
      "239  [celery, shallot, courgette, golden caster sug...  \n",
      "240  [red onion, mozzarella, soured cream, tortilla...  \n",
      "241  [salt, cider vinegar, tarragon, butter, shallo...  \n",
      "\n",
      "[242 rows x 2 columns]\n"
     ]
    }
   ],
   "source": [
    "cypher_query = \"\"\"\n",
    "MATCH (r:Recipe)\n",
    "WHERE (r)-[:CONTAINS_INGREDIENT]->(:Ingredient {name: 'chilli'})\n",
    "RETURN r.name AS recipe,\n",
    "     [(r)-[:CONTAINS_INGREDIENT]->(i) | i.name]\n",
    "     AS ingredients\n",
    "\"\"\"\n",
    "\n",
    "# Run the Cypher query\n",
    "result = gds.run_cypher(cypher_query)\n",
    "\n",
    "# Print the result\n",
    "print(result)"
   ]
  },
  {
   "cell_type": "markdown",
   "id": "152d12ef-0348-4f0d-ae4a-e2832cfeee88",
   "metadata": {},
   "source": [
    "### What can I make with the ingredients in my kitchen?\n",
    "\n",
    "### Recipes with multiple ingredients (Part 1)"
   ]
  },
  {
   "cell_type": "code",
   "execution_count": 21,
   "id": "65727d4c-9b33-4140-b988-cbc030a87def",
   "metadata": {},
   "outputs": [
    {
     "name": "stdout",
     "output_type": "stream",
     "text": [
      "                                              recipe  \\\n",
      "0                     Spinach, avocado & prawn salad   \n",
      "1                Sweet & hot prawn & pineapple curry   \n",
      "2                                     Kung po prawns   \n",
      "3                             Spicy stuffed chillies   \n",
      "4                         Prawn & avocado escabÃ¨che   \n",
      "5                                Savoury party bites   \n",
      "6                              Prawn & coconut laksa   \n",
      "7                                One-pan prawn pilau   \n",
      "8                       Hot & sour broth with prawns   \n",
      "9             Spaghetti with prawns, chilli & rocket   \n",
      "10           Spicy seafood stew with tomatoes & lime   \n",
      "11                 Spiced prawns with coriander mayo   \n",
      "12                      Cheat's chilli prawn noodles   \n",
      "13  Singapore noodles with shrimps & Chinese cabbage   \n",
      "14                                 Hot salmon parcel   \n",
      "\n",
      "                                          ingredients  \n",
      "0   [spinach, avocado, soy sauce, garlic clove, pr...  \n",
      "1   [chilli, sugar, fish sauce, coconut milk, vege...  \n",
      "2   [groundnut oil, cornflour, water chestnut, roa...  \n",
      "3   [vegetable oil, coconut milk, prawn, wine, pal...  \n",
      "4   [oregano, coriander, chilli, prawn, tomato pas...  \n",
      "5             [prawn, caviar, chilli, cheese, squash]  \n",
      "6   [prawn, egg noodle, chilli, coriander, lime, o...  \n",
      "7   [prawn, coriander, basmati rice, curry paste, ...  \n",
      "8   [golden caster sugar, chicken stock, soy sauce...  \n",
      "9   [spaghetti, chilli, prawn, extra-virgin olive ...  \n",
      "10  [prawn, chipotle paste, olive oil, onion, garl...  \n",
      "11  [chilli powder, lime, breadcrumb, groundnut oi...  \n",
      "12  [tomato purÃ©e, chilli, olive oil, coriander, ...  \n",
      "13  [sunflower oil, rice, chicken stock, spring on...  \n",
      "14  [salmon, coconut, ginger, soy sauce, clear hon...  \n"
     ]
    }
   ],
   "source": [
    "cypher_query = \"\"\"\n",
    "MATCH (r:Recipe)\n",
    "WHERE (r)-[:CONTAINS_INGREDIENT]->(:Ingredient {name: 'chilli'})\n",
    "AND   (r)-[:CONTAINS_INGREDIENT]->(:Ingredient {name: 'prawn'})\n",
    "RETURN r.name AS recipe,\n",
    "     [(r)-[:CONTAINS_INGREDIENT]->(i) | i.name]\n",
    "     AS ingredients\n",
    "LIMIT 20\n",
    "\"\"\"\n",
    "\n",
    "# Run the Cypher query\n",
    "result = gds.run_cypher(cypher_query)\n",
    "\n",
    "# Print the result\n",
    "print(result)"
   ]
  },
  {
   "cell_type": "markdown",
   "id": "c33b644d-aa95-4652-9a8f-1f32a82555e4",
   "metadata": {},
   "source": [
    "### What can I make with the ingredients in my kitchen?\n",
    "\n",
    "### Recipes with multiple ingredients (Part 2)"
   ]
  },
  {
   "cell_type": "code",
   "execution_count": 22,
   "id": "218f3222-8981-4478-83ab-bbb154b80d19",
   "metadata": {},
   "outputs": [
    {
     "name": "stdout",
     "output_type": "stream",
     "text": [
      "                                              recipe  \\\n",
      "0                                Savoury party bites   \n",
      "1             Spaghetti with prawns, chilli & rocket   \n",
      "2                     Spinach, avocado & prawn salad   \n",
      "3                       Hot & sour broth with prawns   \n",
      "4                                One-pan prawn pilau   \n",
      "5                       Cheat's chilli prawn noodles   \n",
      "6                         Prawn & avocado escabÃ¨che   \n",
      "7                Sweet & hot prawn & pineapple curry   \n",
      "8                              Prawn & coconut laksa   \n",
      "9                  Spiced prawns with coriander mayo   \n",
      "10                                    Kung po prawns   \n",
      "11                                 Hot salmon parcel   \n",
      "12                            Spicy stuffed chillies   \n",
      "13  Singapore noodles with shrimps & Chinese cabbage   \n",
      "14           Spicy seafood stew with tomatoes & lime   \n",
      "\n",
      "                                          ingredients  \n",
      "0             [prawn, caviar, chilli, cheese, squash]  \n",
      "1   [spaghetti, chilli, prawn, extra-virgin olive ...  \n",
      "2   [spinach, avocado, soy sauce, garlic clove, pr...  \n",
      "3   [golden caster sugar, chicken stock, soy sauce...  \n",
      "4   [prawn, coriander, basmati rice, curry paste, ...  \n",
      "5   [tomato purÃ©e, chilli, olive oil, coriander, ...  \n",
      "6   [oregano, coriander, chilli, prawn, tomato pas...  \n",
      "7   [chilli, sugar, fish sauce, coconut milk, vege...  \n",
      "8   [prawn, egg noodle, chilli, coriander, lime, o...  \n",
      "9   [chilli powder, lime, breadcrumb, groundnut oi...  \n",
      "10  [groundnut oil, cornflour, water chestnut, roa...  \n",
      "11  [salmon, coconut, ginger, soy sauce, clear hon...  \n",
      "12  [vegetable oil, coconut milk, prawn, wine, pal...  \n",
      "13  [sunflower oil, rice, chicken stock, spring on...  \n",
      "14  [prawn, chipotle paste, olive oil, onion, garl...  \n"
     ]
    }
   ],
   "source": [
    "# Define the ingredients parameter\n",
    "ingredients = ['chilli', 'prawn']\n",
    "\n",
    "# Define the Cypher query\n",
    "cypher_query = \"\"\"\n",
    "MATCH (r:Recipe)\n",
    "WHERE all(i in $ingredients WHERE exists(\n",
    "     (r)-[:CONTAINS_INGREDIENT]->(:Ingredient {name: i})))\n",
    "RETURN r.name AS recipe,\n",
    "     [(r)-[:CONTAINS_INGREDIENT]->(i) | i.name]\n",
    "     AS ingredients\n",
    "ORDER BY size(ingredients)\n",
    "LIMIT 20\n",
    "\"\"\"\n",
    "\n",
    "# Run the Cypher query with parameters\n",
    "result = gds.run_cypher(cypher_query, params={'ingredients': ingredients})\n",
    "\n",
    "# Print the result\n",
    "print(result)   "
   ]
  },
  {
   "cell_type": "markdown",
   "id": "4647ce1a-d377-4a91-b665-663a92a8f1f4",
   "metadata": {},
   "source": [
    "### Mark’s allergic to all the things"
   ]
  },
  {
   "cell_type": "code",
   "execution_count": 23,
   "id": "26706e20-c262-4aeb-b491-22bf007d4353",
   "metadata": {},
   "outputs": [
    {
     "name": "stdout",
     "output_type": "stream",
     "text": [
      "                                        recipe  \\\n",
      "0                         Toasted coconut rice   \n",
      "1                          Lamb meatball curry   \n",
      "2               Slow cooker Thai chicken curry   \n",
      "3   Sticky coconut rice, mango & passion fruit   \n",
      "4                           Keralan hake curry   \n",
      "5                       Fruity Caribbean curry   \n",
      "6                     Thai green chicken curry   \n",
      "7             Roasted aubergine & tomato curry   \n",
      "8                       Creamy split pea curry   \n",
      "9                     Satay sweet potato curry   \n",
      "10              Brazilian prawn & coconut stew   \n",
      "11                         Beef massaman curry   \n",
      "12              Bahia-style Moqueca prawn stew   \n",
      "13                       Keralan scallop molee   \n",
      "14                          Coconut fish curry   \n",
      "15                                 Katsu curry   \n",
      "16                  One-pan jerk roast chicken   \n",
      "17              Prawn, butternut & mango curry   \n",
      "18                       Veggie Thai red curry   \n",
      "19                    Thai green chicken curry   \n",
      "\n",
      "                                          ingredients  \n",
      "0   [lime leaf, rice, coconut milk, desiccated coc...  \n",
      "1   [curry paste, coconut milk, lamb, rice, new po...  \n",
      "2   [rice, root ginger, chicken thigh, fish sauce,...  \n",
      "3   [orange, passion fruit, coconut milk, caster s...  \n",
      "4   [cherry tomato, groundnut oil, coconut milk, m...  \n",
      "5   [coconut milk, kidney bean, curry powder, pepp...  \n",
      "6   [caster sugar, garlic clove, Thai fish sauce, ...  \n",
      "7   [rice, olive oil, coriander, garlic cloves, on...  \n",
      "8   [black onion seed, curry paste, coriander, ric...  \n",
      "9   [ginger, peanut butter, garlic clove, peanut, ...  \n",
      "10  [green bean, onion, red chillies, king prawn, ...  \n",
      "11  [curry paste, rice, coconut milk, peanut, brow...  \n",
      "12  [spring onion, onion, chilli flakes, oil, papr...  \n",
      "13  [lime juice, coriander, curry leaf, cherry tom...  \n",
      "14  [lime, coriander, light muscovado sugar, shrim...  \n",
      "15  [garlic cloves, cucumber, onion, mint leaves, ...  \n",
      "16  [lime, scotch bonnet, red onion, red pepper, f...  \n",
      "17  [onion, lemongrass, coriander, ground coriande...  \n",
      "18  [chilli, lime, red pepper, lemongrass, vegetab...  \n",
      "19  [coriander seed, palm sugar, shrimp paste, spr...  \n"
     ]
    }
   ],
   "source": [
    "allergens =   ['egg', 'milk'];\n",
    "ingredients = ['coconut milk', 'rice'];\n",
    "\n",
    "# Define the Cypher query\n",
    "cypher_query = \"\"\"\n",
    "MATCH (r:Recipe)\n",
    "\n",
    "WHERE all(i in $ingredients WHERE exists(\n",
    "     (r)-[:CONTAINS_INGREDIENT]->(:Ingredient {name: i})))\n",
    "AND none(i in $allergens WHERE exists(\n",
    "     (r)-[:CONTAINS_INGREDIENT]->(:Ingredient {name: i})))\n",
    "\n",
    "RETURN r.name AS recipe,\n",
    "     [(r)-[:CONTAINS_INGREDIENT]->(i) | i.name]\n",
    "     AS ingredients\n",
    "ORDER BY size(ingredients)\n",
    "LIMIT 20\n",
    "\"\"\"\n",
    "\n",
    "# Run the Cypher query with parameters\n",
    "result = gds.run_cypher(cypher_query, params={'allergens': allergens, 'ingredients': ingredients})\n",
    "\n",
    "# Print the result\n",
    "print(result)   "
   ]
  }
 ],
 "metadata": {
  "kernelspec": {
   "display_name": "Python 3 (ipykernel)",
   "language": "python",
   "name": "python3"
  },
  "language_info": {
   "codemirror_mode": {
    "name": "ipython",
    "version": 3
   },
   "file_extension": ".py",
   "mimetype": "text/x-python",
   "name": "python",
   "nbconvert_exporter": "python",
   "pygments_lexer": "ipython3",
   "version": "3.12.4"
  }
 },
 "nbformat": 4,
 "nbformat_minor": 5
}
