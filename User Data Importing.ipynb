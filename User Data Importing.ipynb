{
 "cells": [
  {
   "cell_type": "code",
   "execution_count": 1,
   "id": "fc70e6aa-2509-4d4f-acf7-e826f77c18d9",
   "metadata": {},
   "outputs": [],
   "source": [
    "#!pip install graphdatascienceb"
   ]
  },
  {
   "cell_type": "code",
   "execution_count": 2,
   "id": "24199b7e-4e6f-4e22-8688-a415e2eea247",
   "metadata": {},
   "outputs": [],
   "source": [
    "# Define connection details\n",
    "uri = \"bolt://localhost:7687\"  # Replace with your Neo4j URI\n",
    "username = \"username\"         # Replace with your Neo4j username\n",
    "password = \"password\"      # Replace with your Neo4j password\n",
    "db_name = \"nutrition\"          # Specify the database you want to work on"
   ]
  },
  {
   "cell_type": "code",
   "execution_count": 3,
   "id": "7a16ffa1-7896-4b7f-94a1-12b480f8a8e8",
   "metadata": {},
   "outputs": [
    {
     "name": "stderr",
     "output_type": "stream",
     "text": [
      "Received notification from DBMS server: {severity: WARNING} {code: Neo.ClientNotification.Statement.FeatureDeprecationWarning} {category: DEPRECATION} {title: This feature is deprecated and will be removed in future versions.} {description: The query used a deprecated field from a procedure. ('advertisedListenAddress' returned by 'gds.debug.arrow' is deprecated.)} {position: line: 1, column: 1, offset: 0} for query: 'CALL gds.debug.arrow()'\n",
      "Received notification from DBMS server: {severity: WARNING} {code: Neo.ClientNotification.Statement.FeatureDeprecationWarning} {category: DEPRECATION} {title: This feature is deprecated and will be removed in future versions.} {description: The query used a deprecated field from a procedure. ('serverLocation' returned by 'gds.debug.arrow' is deprecated.)} {position: line: 1, column: 1, offset: 0} for query: 'CALL gds.debug.arrow()'\n"
     ]
    },
    {
     "name": "stdout",
     "output_type": "stream",
     "text": [
      "2.7.0\n"
     ]
    }
   ],
   "source": [
    "from graphdatascience import GraphDataScience\n",
    "import pandas as pd\n",
    "\n",
    "# Create another GraphDataScience instance and set the default database\n",
    "gds = GraphDataScience(uri, auth=(username, password), database=db_name)\n",
    "\n",
    "# Check the installed GDS version on the server\n",
    "print(gds.version())\n",
    "assert gds.version()"
   ]
  },
  {
   "cell_type": "code",
   "execution_count": 4,
   "id": "80f2fc4f-5d75-47c7-a25e-3c7f9cf9a4ed",
   "metadata": {},
   "outputs": [
    {
     "name": "stdout",
     "output_type": "stream",
     "text": [
      "Indexes cleared\n",
      "User data cleared\n",
      "Users indexes cleared\n"
     ]
    }
   ],
   "source": [
    "def clear_database(gds):\n",
    "    # Define Cypher queries to drop indexes and clear user data\n",
    "    drop_indexes_query = \"DROP INDEX user_id_index IF EXISTS\"\n",
    "    clear_users_query = \"\"\"\n",
    "    MATCH (u:User)\n",
    "    DETACH DELETE u\n",
    "    \"\"\"\n",
    "    \n",
    "    # Drop the specified indexes\n",
    "    gds.run_cypher(drop_indexes_query)\n",
    "    print(\"Indexes cleared\")\n",
    "\n",
    "    # Clear user data\n",
    "    gds.run_cypher(clear_users_query)\n",
    "    print(\"User data cleared\")\n",
    "\n",
    "# Run the function\n",
    "clear_database(gds)\n",
    "\n",
    "print(\"Users indexes cleared\")"
   ]
  },
  {
   "cell_type": "markdown",
   "id": "cf93606b-f40b-4ca8-aff1-8ae13f769881",
   "metadata": {},
   "source": [
    "### Set up indexes for query performance"
   ]
  },
  {
   "cell_type": "code",
   "execution_count": 5,
   "id": "fe9f5b9d-1817-48ef-8fe2-e835a30bcc8f",
   "metadata": {},
   "outputs": [
    {
     "name": "stdout",
     "output_type": "stream",
     "text": [
      "Executed: CREATE INDEX user_id_index FOR (u:User) ON (u.id);\n"
     ]
    }
   ],
   "source": [
    "# List of index creation queries\n",
    "index_queries = [\n",
    "    \"CREATE INDEX user_id_index FOR (u:User) ON (u.id);\"\n",
    "]\n",
    "\n",
    "# Run each query separately\n",
    "for query in index_queries:\n",
    "    try:\n",
    "        gds.run_cypher(query)\n",
    "        print(f\"Executed: {query}\")\n",
    "    except Exception as e:\n",
    "        print(f\"Error executing query: {query}\\nError message: {str(e)}\")\n",
    "        print()"
   ]
  },
  {
   "cell_type": "markdown",
   "id": "b2df1b28-4d6f-493f-befc-aa5d4ff484c6",
   "metadata": {},
   "source": [
    "### Import users and connect to ingredients and diet type"
   ]
  },
  {
   "cell_type": "code",
   "execution_count": 6,
   "id": "4af432f6-c3aa-42c5-9b84-833b45d84256",
   "metadata": {},
   "outputs": [
    {
     "name": "stdout",
     "output_type": "stream",
     "text": [
      "Empty DataFrame\n",
      "Columns: []\n",
      "Index: []\n"
     ]
    }
   ],
   "source": [
    "cypher_query = \"\"\"\n",
    "CALL apoc.load.json(\"file:///survey_data_version_4.json\") YIELD value\n",
    "WITH \n",
    "    value.user.id AS id,\n",
    "    value.user.name AS name,\n",
    "    value.user.gender AS gender,\n",
    "    value.user.occupation AS occupation,\n",
    "    value.user.likes_ingredients AS likesIngredients,\n",
    "    value.user.dislikes_ingredients AS dislikesIngredients,\n",
    "    value.user.allergic_to_ingredients AS allergicToIngredients,\n",
    "    value.user.diet_types AS dietTypes\n",
    "MERGE (u:User {id: id})\n",
    "SET \n",
    "    u.name = name,\n",
    "    u.gender = gender,\n",
    "    u.occupation = occupation\n",
    "WITH u, [ingredient IN likesIngredients WHERE ingredient IS NOT NULL AND ingredient <> \"\"] AS likesIngredients,\n",
    "     [ingredient IN dislikesIngredients WHERE ingredient IS NOT NULL AND ingredient <> \"\"] AS dislikesIngredients,\n",
    "     [ingredient IN allergicToIngredients WHERE ingredient IS NOT NULL AND ingredient <> \"\"] AS allergicToIngredients,\n",
    "     [dietType IN dietTypes WHERE dietType IS NOT NULL AND dietType <> \"\"] AS dietTypes\n",
    "FOREACH (ingredient IN likesIngredients |\n",
    "  MERGE (i:Ingredient {name: ingredient})\n",
    "  ON CREATE SET i.name = ingredient\n",
    "  MERGE (u)-[:LIKES]->(i)\n",
    ")\n",
    "FOREACH (ingredient IN dislikesIngredients |\n",
    "  MERGE (i:Ingredient {name: ingredient})\n",
    "  ON CREATE SET i.name = ingredient\n",
    "  MERGE (u)-[:DISLIKES]->(i)\n",
    ")\n",
    "FOREACH (ingredient IN allergicToIngredients |\n",
    "  MERGE (i:Ingredient {name: ingredient})\n",
    "  ON CREATE SET i.name = ingredient\n",
    "  MERGE (u)-[:ALLERGIC_TO]->(i)\n",
    ")\n",
    "FOREACH (dietType IN dietTypes |\n",
    "  MERGE (d:DietType {name: dietType})\n",
    "  MERGE (u)-[:HAS_DIET]->(d)\n",
    ")\n",
    "\"\"\"\n",
    "\n",
    "# Run the Cypher query\n",
    "result = gds.run_cypher(cypher_query)\n",
    "\n",
    "# Print the result\n",
    "print(result)"
   ]
  }
 ],
 "metadata": {
  "kernelspec": {
   "display_name": "Python 3 (ipykernel)",
   "language": "python",
   "name": "python3"
  },
  "language_info": {
   "codemirror_mode": {
    "name": "ipython",
    "version": 3
   },
   "file_extension": ".py",
   "mimetype": "text/x-python",
   "name": "python",
   "nbconvert_exporter": "python",
   "pygments_lexer": "ipython3",
   "version": "3.12.4"
  }
 },
 "nbformat": 4,
 "nbformat_minor": 5
}
